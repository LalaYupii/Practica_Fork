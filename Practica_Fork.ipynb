{
 "cells": [
  {
   "cell_type": "markdown",
   "metadata": {},
   "source": [
    "# Practicamos un Poquito para Reforzar (espero que les guste la actividad) :D"
   ]
  },
  {
   "cell_type": "markdown",
   "metadata": {},
   "source": [
    "- Usamos Pandas \n",
    "- Crear 2 DataFrames a partir de los archivos de la carpeta Datasets\n",
    "- Tomamos solamente las siguientes columnas del archivo games.csv: Name, Developer, Platform, Genres, Cooperative\n",
    "- Tomamos solamente las siguientes columnas del archivo platform.csv: Name, Category\n",
    "- Revisar si hay duplicados y eliminarlos\n",
    "- Hacer un Merge entre ambas tablas a través de la columna Plataform de games.csv\n",
    "- Responder trabajando sobre el dataframes obtenido al realizar el merge:\n",
    "    - Cuantas categorias de plataformas tenemos?\n",
    "    - Cuantas juegos son cooperativos y cuantos no?\n",
    "    - Cual es el TOP 5 de Developer en relación a la cantidad de juegos realizados especificando la plataforma\n",
    "    - Cual fue la plataforma más vendida"
   ]
  },
  {
   "cell_type": "code",
   "execution_count": null,
   "metadata": {},
   "outputs": [],
   "source": [
    "\n"
   ]
  }
 ],
 "metadata": {
  "kernelspec": {
   "display_name": "Python 3.10.4 64-bit",
   "language": "python",
   "name": "python3"
  },
  "language_info": {
   "name": "python",
   "version": "3.10.4"
  },
  "orig_nbformat": 4,
  "vscode": {
   "interpreter": {
    "hash": "a06e0cf41d9bd1fb106e7e83326df00b44cf746455b39376adea504742b82eb5"
   }
  }
 },
 "nbformat": 4,
 "nbformat_minor": 2
}
